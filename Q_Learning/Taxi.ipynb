{
  "nbformat": 4,
  "nbformat_minor": 0,
  "metadata": {
    "colab": {
      "name": "TabularRL.ipynb",
      "provenance": []
    },
    "kernelspec": {
      "name": "python3",
      "display_name": "Python 3"
    }
  },
  "cells": [
    {
      "cell_type": "code",
      "metadata": {
        "id": "4G1G-_2bnub-"
      },
      "source": [
        "import gym\n",
        "import numpy as np\n",
        "import matplotlib.pyplot as plt"
      ],
      "execution_count": 1,
      "outputs": []
    },
    {
      "cell_type": "code",
      "metadata": {
        "id": "-faweWv_n14T"
      },
      "source": [
        "env_name = \"Taxi-v3\"\n",
        "epsilon = 1\n",
        "decay_rate = 0.001\n",
        "min_epsilon = 0.01\n",
        "max_episodes = 2500\n",
        "print_interval = 50\n",
        "test_episodes = 1\n",
        "lr = 0.4\n",
        "gamma = 0.99"
      ],
      "execution_count": 2,
      "outputs": []
    },
    {
      "cell_type": "code",
      "metadata": {
        "id": "0RgIG8ZCn55-",
        "outputId": "2f983af0-a8d4-4eb6-9522-9faa1992c969",
        "colab": {
          "base_uri": "https://localhost:8080/",
          "height": 51
        }
      },
      "source": [
        "env = gym.make(env_name)\n",
        "n_states = env.observation_space.n\n",
        "n_actions = env.action_space.n\n",
        "print(f\"Number of states: {n_states}\\n\"\n",
        "      f\"Number of actions: {n_actions}\")"
      ],
      "execution_count": 4,
      "outputs": [
        {
          "output_type": "stream",
          "text": [
            "Number of states: 500\n",
            "Number of actions: 6\n"
          ],
          "name": "stdout"
        }
      ]
    },
    {
      "cell_type": "code",
      "metadata": {
        "id": "RvysxZhHn9Ps"
      },
      "source": [
        "q_table = np.zeros((n_states, n_actions))"
      ],
      "execution_count": 5,
      "outputs": []
    },
    {
      "cell_type": "code",
      "metadata": {
        "id": "Uld-eDgDoGgI"
      },
      "source": [
        "def choose_action(state):\n",
        "    global q_table\n",
        "    if epsilon > np.random.uniform():\n",
        "        action = env.action_space.sample()\n",
        "    else:\n",
        "        action = np.argmax(q_table[state, :])\n",
        "    return action"
      ],
      "execution_count": 6,
      "outputs": []
    },
    {
      "cell_type": "code",
      "metadata": {
        "id": "Az6U6gB-oIp0"
      },
      "source": [
        "def update_table(state, action, reward, done, next_state):\n",
        "    global q_table\n",
        "    q_table[state, action] += lr * (reward + gamma * np.max(q_table[next_state, :]) * (1 - done) - q_table[state, action])"
      ],
      "execution_count": 7,
      "outputs": []
    },
    {
      "cell_type": "code",
      "metadata": {
        "id": "eVF1gQu5oOz-",
        "outputId": "0278b1e1-fbc1-44ca-ed30-7d0a3e7c5ee6",
        "colab": {
          "base_uri": "https://localhost:8080/",
          "height": 867
        }
      },
      "source": [
        "running_reward = []\n",
        "for episode in range(1, 1 + max_episodes):\n",
        "    state = env.reset()\n",
        "    done = False  \n",
        "    episode_reward = 0\n",
        "    while not done:\n",
        "        action = choose_action(state)\n",
        "        next_state, reward, done, _ = env.step(action)\n",
        "        update_table(state, action, reward, done, next_state)\n",
        "        \n",
        "        episode_reward += reward\n",
        "        if done:\n",
        "            break\n",
        "        state = next_state\n",
        "            \n",
        "    epsilon  = epsilon - decay_rate if epsilon - decay_rate > min_epsilon else min_epsilon\n",
        "    \n",
        "    if episode == 1:\n",
        "        running_reward.append(episode_reward)\n",
        "    else:\n",
        "        running_reward.append(0.99 * running_reward[-1] + 0.01 * episode_reward)\n",
        "    if episode % print_interval == 0:\n",
        "        print(f\"Ep:{episode}| \"\n",
        "              f\"Ep_reward:{episode_reward}| \"\n",
        "              f\"Running_reward:{running_reward[-1]:.3f}| \"\n",
        "             f\"Epsilon:{epsilon:.3f}| \")"
      ],
      "execution_count": 8,
      "outputs": [
        {
          "output_type": "stream",
          "text": [
            "Ep:50| Ep_reward:-839| Running_reward:-764.043| Epsilon:0.950| \n",
            "Ep:100| Ep_reward:-677| Running_reward:-737.228| Epsilon:0.900| \n",
            "Ep:150| Ep_reward:-277| Running_reward:-707.480| Epsilon:0.850| \n",
            "Ep:200| Ep_reward:-212| Running_reward:-635.261| Epsilon:0.800| \n",
            "Ep:250| Ep_reward:-518| Running_reward:-562.384| Epsilon:0.750| \n",
            "Ep:300| Ep_reward:-98| Running_reward:-462.270| Epsilon:0.700| \n",
            "Ep:350| Ep_reward:-111| Running_reward:-349.594| Epsilon:0.650| \n",
            "Ep:400| Ep_reward:-26| Running_reward:-258.620| Epsilon:0.600| \n",
            "Ep:450| Ep_reward:-41| Running_reward:-189.503| Epsilon:0.550| \n",
            "Ep:500| Ep_reward:-82| Running_reward:-141.913| Epsilon:0.500| \n",
            "Ep:550| Ep_reward:-37| Running_reward:-103.760| Epsilon:0.450| \n",
            "Ep:600| Ep_reward:-54| Running_reward:-75.628| Epsilon:0.400| \n",
            "Ep:650| Ep_reward:-17| Running_reward:-56.663| Epsilon:0.350| \n",
            "Ep:700| Ep_reward:-29| Running_reward:-41.814| Epsilon:0.300| \n",
            "Ep:750| Ep_reward:5| Running_reward:-31.542| Epsilon:0.250| \n",
            "Ep:800| Ep_reward:13| Running_reward:-22.273| Epsilon:0.200| \n",
            "Ep:850| Ep_reward:11| Running_reward:-13.684| Epsilon:0.150| \n",
            "Ep:900| Ep_reward:-2| Running_reward:-8.469| Epsilon:0.100| \n",
            "Ep:950| Ep_reward:4| Running_reward:-3.421| Epsilon:0.050| \n",
            "Ep:1000| Ep_reward:5| Running_reward:0.686| Epsilon:0.010| \n",
            "Ep:1050| Ep_reward:10| Running_reward:3.405| Epsilon:0.010| \n",
            "Ep:1100| Ep_reward:10| Running_reward:5.031| Epsilon:0.010| \n",
            "Ep:1150| Ep_reward:8| Running_reward:6.022| Epsilon:0.010| \n",
            "Ep:1200| Ep_reward:6| Running_reward:6.779| Epsilon:0.010| \n",
            "Ep:1250| Ep_reward:6| Running_reward:6.556| Epsilon:0.010| \n",
            "Ep:1300| Ep_reward:11| Running_reward:6.743| Epsilon:0.010| \n",
            "Ep:1350| Ep_reward:9| Running_reward:7.225| Epsilon:0.010| \n",
            "Ep:1400| Ep_reward:9| Running_reward:7.544| Epsilon:0.010| \n",
            "Ep:1450| Ep_reward:7| Running_reward:7.169| Epsilon:0.010| \n",
            "Ep:1500| Ep_reward:6| Running_reward:7.408| Epsilon:0.010| \n",
            "Ep:1550| Ep_reward:5| Running_reward:6.926| Epsilon:0.010| \n",
            "Ep:1600| Ep_reward:5| Running_reward:7.405| Epsilon:0.010| \n",
            "Ep:1650| Ep_reward:3| Running_reward:7.533| Epsilon:0.010| \n",
            "Ep:1700| Ep_reward:11| Running_reward:7.205| Epsilon:0.010| \n",
            "Ep:1750| Ep_reward:5| Running_reward:7.312| Epsilon:0.010| \n",
            "Ep:1800| Ep_reward:6| Running_reward:7.397| Epsilon:0.010| \n",
            "Ep:1850| Ep_reward:7| Running_reward:7.496| Epsilon:0.010| \n",
            "Ep:1900| Ep_reward:8| Running_reward:7.500| Epsilon:0.010| \n",
            "Ep:1950| Ep_reward:4| Running_reward:7.690| Epsilon:0.010| \n",
            "Ep:2000| Ep_reward:4| Running_reward:7.566| Epsilon:0.010| \n",
            "Ep:2050| Ep_reward:-5| Running_reward:7.251| Epsilon:0.010| \n",
            "Ep:2100| Ep_reward:3| Running_reward:6.931| Epsilon:0.010| \n",
            "Ep:2150| Ep_reward:9| Running_reward:7.132| Epsilon:0.010| \n",
            "Ep:2200| Ep_reward:9| Running_reward:6.988| Epsilon:0.010| \n",
            "Ep:2250| Ep_reward:7| Running_reward:7.357| Epsilon:0.010| \n",
            "Ep:2300| Ep_reward:6| Running_reward:7.404| Epsilon:0.010| \n",
            "Ep:2350| Ep_reward:9| Running_reward:7.423| Epsilon:0.010| \n",
            "Ep:2400| Ep_reward:6| Running_reward:7.462| Epsilon:0.010| \n",
            "Ep:2450| Ep_reward:10| Running_reward:7.436| Epsilon:0.010| \n",
            "Ep:2500| Ep_reward:10| Running_reward:7.452| Epsilon:0.010| \n"
          ],
          "name": "stdout"
        }
      ]
    },
    {
      "cell_type": "code",
      "metadata": {
        "id": "_a91OEIwoTjz",
        "outputId": "de5b6ad6-ce6f-48d3-e5f4-83f344347db4",
        "colab": {
          "base_uri": "https://localhost:8080/",
          "height": 299
        }
      },
      "source": [
        "plt.figure()\n",
        "plt.style.use(\"ggplot\")\n",
        "plt.plot(np.arange(max_episodes), running_reward)\n",
        "plt.title(\"Running_reward\")"
      ],
      "execution_count": 9,
      "outputs": [
        {
          "output_type": "execute_result",
          "data": {
            "text/plain": [
              "Text(0.5, 1.0, 'Running_reward')"
            ]
          },
          "metadata": {
            "tags": []
          },
          "execution_count": 9
        },
        {
          "output_type": "display_data",
          "data": {
            "image/png": "[encoded data removed]",
            "text/plain": [
              "<Figure size 432x288 with 1 Axes>"
            ]
          },
          "metadata": {
            "tags": [],
            "needs_background": "light"
          }
        }
      ]
    },
    {
      "cell_type": "code",
      "metadata": {
        "id": "efQPLJ5QoYlM",
        "outputId": "8c636a85-f83e-479f-ad49-802f1339a5a8",
        "colab": {
          "base_uri": "https://localhost:8080/",
          "height": 1000
        }
      },
      "source": [
        "for episode in range(1, 1 + test_episodes):\n",
        "    state = env.reset()\n",
        "    done = False  \n",
        "    episode_reward = 0\n",
        "    while not done:\n",
        "        action = choose_action(state)\n",
        "        next_state, reward, done, _ = env.step(action)\n",
        "        env.render()\n",
        "        episode_reward += reward\n",
        "        if done:\n",
        "            break\n",
        "        state = next_state\n",
        "\n",
        "    print(f\"Ep:{episode}| \"\n",
        "          f\"Ep_reward:{episode_reward}| \")"
      ],
      "execution_count": 10,
      "outputs": [
        {
          "output_type": "stream",
          "text": [
            "+---------+\n",
            "|\u001b[35mR\u001b[0m: | : :G|\n",
            "| : | : : |\n",
            "| : : : : |\n",
            "| | : |\u001b[43m \u001b[0m: |\n",
            "|Y| : |\u001b[34;1mB\u001b[0m: |\n",
            "+---------+\n",
            "  (South)\n",
            "+---------+\n",
            "|\u001b[35mR\u001b[0m: | : :G|\n",
            "| : | : : |\n",
            "| : : : : |\n",
            "| | : | : |\n",
            "|Y| : |\u001b[34;1m\u001b[43mB\u001b[0m\u001b[0m: |\n",
            "+---------+\n",
            "  (South)\n",
            "+---------+\n",
            "|\u001b[35mR\u001b[0m: | : :G|\n",
            "| : | : : |\n",
            "| : : : : |\n",
            "| | : | : |\n",
            "|Y| : |\u001b[42mB\u001b[0m: |\n",
            "+---------+\n",
            "  (Pickup)\n",
            "+---------+\n",
            "|\u001b[35mR\u001b[0m: | : :G|\n",
            "| : | : : |\n",
            "| : : : : |\n",
            "| | : |\u001b[42m_\u001b[0m: |\n",
            "|Y| : |B: |\n",
            "+---------+\n",
            "  (North)\n",
            "+---------+\n",
            "|\u001b[35mR\u001b[0m: | : :G|\n",
            "| : | : : |\n",
            "| : : :\u001b[42m_\u001b[0m: |\n",
            "| | : | : |\n",
            "|Y| : |B: |\n",
            "+---------+\n",
            "  (North)\n",
            "+---------+\n",
            "|\u001b[35mR\u001b[0m: | : :G|\n",
            "| : | : : |\n",
            "| : :\u001b[42m_\u001b[0m: : |\n",
            "| | : | : |\n",
            "|Y| : |B: |\n",
            "+---------+\n",
            "  (West)\n",
            "+---------+\n",
            "|\u001b[35mR\u001b[0m: | : :G|\n",
            "| : | : : |\n",
            "| :\u001b[42m_\u001b[0m: : : |\n",
            "| | : | : |\n",
            "|Y| : |B: |\n",
            "+---------+\n",
            "  (West)\n",
            "+---------+\n",
            "|\u001b[35mR\u001b[0m: | : :G|\n",
            "| :\u001b[42m_\u001b[0m| : : |\n",
            "| : : : : |\n",
            "| | : | : |\n",
            "|Y| : |B: |\n",
            "+---------+\n",
            "  (North)\n",
            "+---------+\n",
            "|\u001b[35mR\u001b[0m: | : :G|\n",
            "|\u001b[42m_\u001b[0m: | : : |\n",
            "| : : : : |\n",
            "| | : | : |\n",
            "|Y| : |B: |\n",
            "+---------+\n",
            "  (West)\n",
            "+---------+\n",
            "|\u001b[35m\u001b[42mR\u001b[0m\u001b[0m: | : :G|\n",
            "| : | : : |\n",
            "| : : : : |\n",
            "| | : | : |\n",
            "|Y| : |B: |\n",
            "+---------+\n",
            "  (North)\n",
            "+---------+\n",
            "|\u001b[35m\u001b[34;1m\u001b[43mR\u001b[0m\u001b[0m\u001b[0m: | : :G|\n",
            "| : | : : |\n",
            "| : : : : |\n",
            "| | : | : |\n",
            "|Y| : |B: |\n",
            "+---------+\n",
            "  (Dropoff)\n",
            "Ep:1| Ep_reward:10| \n"
          ],
          "name": "stdout"
        }
      ]
    },
    {
      "cell_type": "code",
      "metadata": {
        "id": "jd61XGy6obq8"
      },
      "source": [
        ""
      ],
      "execution_count": null,
      "outputs": []
    }
  ]
}