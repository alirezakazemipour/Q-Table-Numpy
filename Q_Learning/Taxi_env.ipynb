{
 "cells": [
  {
   "cell_type": "code",
   "execution_count": 1,
   "metadata": {},
   "outputs": [],
   "source": [
    "import gym\n",
    "import numpy as np\n",
    "import matplotlib.pyplot as plt\n",
    "from IPython.display import clear_output\n",
    "from time import sleep"
   ]
  },
  {
   "cell_type": "code",
   "execution_count": 2,
   "metadata": {},
   "outputs": [],
   "source": [
    "env_name = \"Taxi-v3\"\n",
    "epsilon = 1\n",
    "decay_rate = 0.001\n",
    "min_epsilon = 0.01\n",
    "max_episodes = 2500\n",
    "print_interval = 100\n",
    "test_episodes = 3\n",
    "lr = 0.4\n",
    "gamma = 0.99"
   ]
  },
  {
   "cell_type": "code",
   "execution_count": 3,
   "metadata": {},
   "outputs": [
    {
     "name": "stdout",
     "output_type": "stream",
     "text": [
      "Number of states: 500\n",
      "Number of actions: 6\n"
     ]
    }
   ],
   "source": [
    "env = gym.make(env_name)\n",
    "env = gym.wrappers.Monitor(env, \"./vid\", force=True)\n",
    "n_states = env.observation_space.n\n",
    "n_actions = env.action_space.n\n",
    "print(f\"Number of states: {n_states}\\n\"\n",
    "      f\"Number of actions: {n_actions}\")"
   ]
  },
  {
   "cell_type": "code",
   "execution_count": 4,
   "metadata": {},
   "outputs": [],
   "source": [
    "q_table = np.zeros((n_states, n_actions))"
   ]
  },
  {
   "cell_type": "code",
   "execution_count": 5,
   "metadata": {},
   "outputs": [],
   "source": [
    "def choose_action(state):\n",
    "    global q_table\n",
    "    if epsilon > np.random.uniform():\n",
    "        action = env.action_space.sample()\n",
    "    else:\n",
    "        action = np.argmax(q_table[state, :])\n",
    "    return action"
   ]
  },
  {
   "cell_type": "code",
   "execution_count": 6,
   "metadata": {},
   "outputs": [],
   "source": [
    "def update_table(state, action, reward, done, next_state):\n",
    "    global q_table\n",
    "    q_table[state, action] += lr * (reward + gamma * np.max(q_table[next_state, :]) * (1 - done) - q_table[state, action])"
   ]
  },
  {
   "cell_type": "code",
   "execution_count": 7,
   "metadata": {
    "scrolled": false
   },
   "outputs": [
    {
     "name": "stdout",
     "output_type": "stream",
     "text": [
      "Ep:100| Ep_reward:-623| Running_reward:-790.733| Epsilon:0.900| \n",
      "Ep:200| Ep_reward:-641| Running_reward:-650.710| Epsilon:0.800| \n",
      "Ep:300| Ep_reward:-99| Running_reward:-464.054| Epsilon:0.700| \n",
      "Ep:400| Ep_reward:-95| Running_reward:-272.261| Epsilon:0.600| \n",
      "Ep:500| Ep_reward:-96| Running_reward:-144.126| Epsilon:0.500| \n",
      "Ep:600| Ep_reward:-39| Running_reward:-76.831| Epsilon:0.400| \n",
      "Ep:700| Ep_reward:-29| Running_reward:-41.417| Epsilon:0.300| \n",
      "Ep:800| Ep_reward:-7| Running_reward:-20.809| Epsilon:0.200| \n",
      "Ep:900| Ep_reward:-12| Running_reward:-7.454| Epsilon:0.100| \n",
      "Ep:1000| Ep_reward:-5| Running_reward:0.960| Epsilon:0.010| \n",
      "Ep:1100| Ep_reward:8| Running_reward:5.109| Epsilon:0.010| \n",
      "Ep:1200| Ep_reward:10| Running_reward:6.974| Epsilon:0.010| \n",
      "Ep:1300| Ep_reward:7| Running_reward:7.192| Epsilon:0.010| \n",
      "Ep:1400| Ep_reward:1| Running_reward:7.233| Epsilon:0.010| \n",
      "Ep:1500| Ep_reward:10| Running_reward:7.175| Epsilon:0.010| \n",
      "Ep:1600| Ep_reward:5| Running_reward:7.169| Epsilon:0.010| \n",
      "Ep:1700| Ep_reward:9| Running_reward:7.484| Epsilon:0.010| \n",
      "Ep:1800| Ep_reward:12| Running_reward:7.717| Epsilon:0.010| \n",
      "Ep:1900| Ep_reward:9| Running_reward:7.663| Epsilon:0.010| \n",
      "Ep:2000| Ep_reward:9| Running_reward:7.489| Epsilon:0.010| \n",
      "Ep:2100| Ep_reward:8| Running_reward:7.329| Epsilon:0.010| \n",
      "Ep:2200| Ep_reward:9| Running_reward:7.235| Epsilon:0.010| \n",
      "Ep:2300| Ep_reward:6| Running_reward:7.467| Epsilon:0.010| \n",
      "Ep:2400| Ep_reward:11| Running_reward:7.806| Epsilon:0.010| \n",
      "Ep:2500| Ep_reward:8| Running_reward:7.376| Epsilon:0.010| \n"
     ]
    }
   ],
   "source": [
    "running_reward = []\n",
    "for episode in range(1, 1 + max_episodes):\n",
    "    state = env.reset()\n",
    "    done = False  \n",
    "    episode_reward = 0\n",
    "    while not done:\n",
    "        action = choose_action(state)\n",
    "        next_state, reward, done, _ = env.step(action)\n",
    "        update_table(state, action, reward, done, next_state)\n",
    "        \n",
    "        episode_reward += reward\n",
    "        if done:\n",
    "            break\n",
    "        state = next_state\n",
    "            \n",
    "    epsilon  = epsilon - decay_rate if epsilon - decay_rate > min_epsilon else min_epsilon\n",
    "    \n",
    "    if episode == 1:\n",
    "        running_reward.append(episode_reward)\n",
    "    else:\n",
    "        running_reward.append(0.99 * running_reward[-1] + 0.01 * episode_reward)\n",
    "    if episode % print_interval == 0:\n",
    "        print(f\"Ep:{episode}| \"\n",
    "              f\"Ep_reward:{episode_reward}| \"\n",
    "              f\"Running_reward:{running_reward[-1]:.3f}| \"\n",
    "             f\"Epsilon:{epsilon:.3f}| \")"
   ]
  },
  {
   "cell_type": "code",
   "execution_count": 8,
   "metadata": {},
   "outputs": [
    {
     "data": {
      "text/plain": [
       "Text(0.5, 1.0, 'Running_reward')"
      ]
     },
     "execution_count": 8,
     "metadata": {},
     "output_type": "execute_result"
    },
    {
     "data": {
      "image/png": "[encoded data removed]",
      "text/plain": [
       "<Figure size 432x288 with 1 Axes>"
      ]
     },
     "metadata": {
      "needs_background": "light"
     },
     "output_type": "display_data"
    }
   ],
   "source": [
    "plt.figure()\n",
    "plt.style.use(\"ggplot\")\n",
    "plt.plot(np.arange(max_episodes), running_reward)\n",
    "plt.title(\"Running_reward\")"
   ]
  },
  {
   "cell_type": "code",
   "execution_count": 9,
   "metadata": {},
   "outputs": [
    {
     "name": "stdout",
     "output_type": "stream",
     "text": [
      "Ep:3| Ep_reward:7| \n"
     ]
    }
   ],
   "source": [
    "for episode in range(1, 1 + test_episodes):\n",
    "    state = env.reset()\n",
    "    done = False  \n",
    "    episode_reward = 0\n",
    "    while not done:\n",
    "        action = choose_action(state)\n",
    "        next_state, reward, done, _ = env.step(action)\n",
    "        I = env.render()\n",
    "        clear_output(wait=True)\n",
    "        sleep(0.2)\n",
    "        episode_reward += reward\n",
    "        if done:\n",
    "            break\n",
    "        state = next_state\n",
    "\n",
    "    print(f\"Ep:{episode}| \"\n",
    "          f\"Ep_reward:{episode_reward}| \")\n",
    "    env.close()"
   ]
  },
  {
   "cell_type": "markdown",
   "metadata": {},
   "source": []
  },
  {
   "cell_type": "code",
   "execution_count": null,
   "metadata": {},
   "outputs": [],
   "source": []
  }
 ],
 "metadata": {
  "kernelspec": {
   "display_name": "Python 3",
   "language": "python",
   "name": "python3"
  },
  "language_info": {
   "codemirror_mode": {
    "name": "ipython",
    "version": 3
   },
   "file_extension": ".py",
   "mimetype": "text/x-python",
   "name": "python",
   "nbconvert_exporter": "python",
   "pygments_lexer": "ipython3",
   "version": "3.8.5"
  }
 },
 "nbformat": 4,
 "nbformat_minor": 4
}
