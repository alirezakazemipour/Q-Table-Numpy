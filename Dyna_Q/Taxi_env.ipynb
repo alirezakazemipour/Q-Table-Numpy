{
 "cells": [
  {
   "cell_type": "code",
   "execution_count": 1,
   "metadata": {},
   "outputs": [],
   "source": [
    "import gym\n",
    "import numpy as np\n",
    "import matplotlib.pyplot as plt\n",
    "import random\n",
    "from IPython.display import clear_output\n",
    "from time import sleep"
   ]
  },
  {
   "cell_type": "code",
   "execution_count": 4,
   "metadata": {},
   "outputs": [],
   "source": [
    "env_name = \"Taxi-v3\"\n",
    "epsilon = 1\n",
    "decay_rate = 0.001\n",
    "min_epsilon = 0.01\n",
    "max_episodes = 1500\n",
    "print_interval = 100\n",
    "test_episodes = 3\n",
    "lr = 0.4\n",
    "gamma = 0.99\n",
    "model_loops = 3"
   ]
  },
  {
   "cell_type": "code",
   "execution_count": 5,
   "metadata": {},
   "outputs": [
    {
     "name": "stdout",
     "output_type": "stream",
     "text": [
      "Number of states: 500\n",
      "Number of actions: 6\n"
     ]
    }
   ],
   "source": [
    "env = gym.make(env_name)\n",
    "n_states = env.observation_space.n\n",
    "n_actions = env.action_space.n\n",
    "print(f\"Number of states: {n_states}\\n\"\n",
    "      f\"Number of actions: {n_actions}\")"
   ]
  },
  {
   "cell_type": "code",
   "execution_count": 6,
   "metadata": {},
   "outputs": [],
   "source": [
    "q_table = np.zeros((n_states, n_actions))\n",
    "model = np.zeros((n_states, n_actions), dtype=tuple)\n",
    "memory = []"
   ]
  },
  {
   "cell_type": "code",
   "execution_count": 7,
   "metadata": {},
   "outputs": [],
   "source": [
    "def choose_action(state):\n",
    "    global q_table\n",
    "    if epsilon > np.random.uniform():\n",
    "        action = env.action_space.sample()\n",
    "    else:\n",
    "        action = np.argmax(q_table[state, :])\n",
    "    return action"
   ]
  },
  {
   "cell_type": "code",
   "execution_count": 8,
   "metadata": {},
   "outputs": [],
   "source": [
    "def update_table(state, action, reward, done, next_state):\n",
    "    global q_table\n",
    "    q_table[state, action] += lr * (reward + gamma * np.max(q_table[next_state, :]) * (1 - done) - q_table[state, action])"
   ]
  },
  {
   "cell_type": "code",
   "execution_count": 9,
   "metadata": {
    "scrolled": false
   },
   "outputs": [
    {
     "name": "stdout",
     "output_type": "stream",
     "text": [
      "Ep:100| Ep_reward:-722| Running_reward:-766.386| Epsilon:0.900| \n",
      "Ep:200| Ep_reward:-390| Running_reward:-565.627| Epsilon:0.800| \n",
      "Ep:300| Ep_reward:-64| Running_reward:-323.547| Epsilon:0.700| \n",
      "Ep:400| Ep_reward:-104| Running_reward:-188.221| Epsilon:0.600| \n",
      "Ep:500| Ep_reward:-17| Running_reward:-105.641| Epsilon:0.500| \n",
      "Ep:600| Ep_reward:-44| Running_reward:-58.203| Epsilon:0.400| \n",
      "Ep:700| Ep_reward:-15| Running_reward:-35.371| Epsilon:0.300| \n",
      "Ep:800| Ep_reward:5| Running_reward:-17.908| Epsilon:0.200| \n",
      "Ep:900| Ep_reward:5| Running_reward:-7.026| Epsilon:0.100| \n",
      "Ep:1000| Ep_reward:8| Running_reward:1.109| Epsilon:0.010| \n",
      "Ep:1100| Ep_reward:7| Running_reward:4.852| Epsilon:0.010| \n",
      "Ep:1200| Ep_reward:12| Running_reward:6.466| Epsilon:0.010| \n",
      "Ep:1300| Ep_reward:10| Running_reward:7.172| Epsilon:0.010| \n",
      "Ep:1400| Ep_reward:11| Running_reward:7.316| Epsilon:0.010| \n",
      "Ep:1500| Ep_reward:8| Running_reward:7.323| Epsilon:0.010| \n"
     ]
    }
   ],
   "source": [
    "running_reward = []\n",
    "for episode in range(1, 1 + max_episodes):\n",
    "    state = env.reset()\n",
    "    done = False  \n",
    "    episode_reward = 0\n",
    "    while not done:\n",
    "        action = choose_action(state)\n",
    "        next_state, reward, done, _ = env.step(action)\n",
    "        update_table(state, action, reward, done, next_state)\n",
    "        model[state, action] = (reward, next_state)\n",
    "        memory.append((state, action, done))\n",
    "        for _ in range(model_loops):\n",
    "            s, a, d = random.choice(memory)\n",
    "            r, s_ = model[s, a]\n",
    "            update_table(s, a, r, d, s_)\n",
    "        \n",
    "        episode_reward += reward\n",
    "        state = next_state         \n",
    "    epsilon  = epsilon - decay_rate if epsilon - decay_rate > min_epsilon else min_epsilon\n",
    "    \n",
    "    if episode == 1:\n",
    "        running_reward.append(episode_reward)\n",
    "    else:\n",
    "        running_reward.append(0.99 * running_reward[-1] + 0.01 * episode_reward)\n",
    "    if episode % print_interval == 0:\n",
    "        print(f\"Ep:{episode}| \"\n",
    "              f\"Ep_reward:{episode_reward}| \"\n",
    "              f\"Running_reward:{running_reward[-1]:.3f}| \"\n",
    "             f\"Epsilon:{epsilon:.3f}| \")"
   ]
  },
  {
   "cell_type": "code",
   "execution_count": 10,
   "metadata": {},
   "outputs": [
    {
     "data": {
      "text/plain": [
       "Text(0.5, 1.0, 'Running_reward')"
      ]
     },
     "execution_count": 10,
     "metadata": {},
     "output_type": "execute_result"
    },
    {
     "data": {
      "image/png": "[encoded data removed]",
      "text/plain": [
       "<Figure size 432x288 with 1 Axes>"
      ]
     },
     "metadata": {
      "needs_background": "light"
     },
     "output_type": "display_data"
    }
   ],
   "source": [
    "plt.figure()\n",
    "plt.style.use(\"ggplot\")\n",
    "plt.plot(np.arange(max_episodes), running_reward)\n",
    "plt.title(\"Running_reward\")"
   ]
  },
  {
   "cell_type": "code",
   "execution_count": 14,
   "metadata": {},
   "outputs": [
    {
     "name": "stdout",
     "output_type": "stream",
     "text": [
      "Ep:3| Ep_reward:8| \n"
     ]
    }
   ],
   "source": [
    "for episode in range(1, 1 + test_episodes):\n",
    "    state = env.reset()\n",
    "    done = False  \n",
    "    episode_reward = 0\n",
    "    while not done:\n",
    "        action = choose_action(state)\n",
    "        next_state, reward, done, _ = env.step(action)\n",
    "        env.render()\n",
    "        clear_output(wait=True)\n",
    "        sleep(0.3)\n",
    "        episode_reward += reward\n",
    "        state = next_state\n",
    "\n",
    "    print(f\"Ep:{episode}| \"\n",
    "          f\"Ep_reward:{episode_reward}| \")\n",
    "    env.close()"
   ]
  },
  {
   "cell_type": "code",
   "execution_count": null,
   "metadata": {},
   "outputs": [],
   "source": []
  }
 ],
 "metadata": {
  "kernelspec": {
   "display_name": "Python 3",
   "language": "python",
   "name": "python3"
  },
  "language_info": {
   "codemirror_mode": {
    "name": "ipython",
    "version": 3
   },
   "file_extension": ".py",
   "mimetype": "text/x-python",
   "name": "python",
   "nbconvert_exporter": "python",
   "pygments_lexer": "ipython3",
   "version": "3.8.5"
  }
 },
 "nbformat": 4,
 "nbformat_minor": 4
}
