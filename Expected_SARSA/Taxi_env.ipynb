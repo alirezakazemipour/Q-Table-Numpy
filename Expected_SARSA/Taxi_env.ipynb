{
 "cells": [
  {
   "cell_type": "code",
   "execution_count": 1,
   "metadata": {},
   "outputs": [],
   "source": [
    "import gym\n",
    "import numpy as np\n",
    "import matplotlib.pyplot as plt\n",
    "from IPython.display import clear_output\n",
    "from time import sleep"
   ]
  },
  {
   "cell_type": "code",
   "execution_count": 2,
   "metadata": {},
   "outputs": [],
   "source": [
    "env_name = \"Taxi-v3\"\n",
    "epsilon = 1\n",
    "decay_rate = 0.001\n",
    "min_epsilon = 0.01\n",
    "max_episodes = 2500\n",
    "print_interval = 100\n",
    "test_episodes = 3\n",
    "lr = 0.4\n",
    "gamma = 0.99"
   ]
  },
  {
   "cell_type": "code",
   "execution_count": 3,
   "metadata": {},
   "outputs": [
    {
     "name": "stdout",
     "output_type": "stream",
     "text": [
      "Number of states: 500\n",
      "Number of actions: 6\n"
     ]
    }
   ],
   "source": [
    "env = gym.make(env_name)\n",
    "n_states = env.observation_space.n\n",
    "n_actions = env.action_space.n\n",
    "print(f\"Number of states: {n_states}\\n\"\n",
    "      f\"Number of actions: {n_actions}\")"
   ]
  },
  {
   "cell_type": "code",
   "execution_count": 4,
   "metadata": {},
   "outputs": [],
   "source": [
    "q_table = np.zeros((n_states, n_actions))"
   ]
  },
  {
   "cell_type": "code",
   "execution_count": 5,
   "metadata": {},
   "outputs": [],
   "source": [
    "def choose_action(state):\n",
    "    global q_table\n",
    "    if epsilon > np.random.uniform():\n",
    "        action = env.action_space.sample()\n",
    "    else:\n",
    "        action = np.argmax(q_table[state, :])\n",
    "    return action"
   ]
  },
  {
   "cell_type": "code",
   "execution_count": 6,
   "metadata": {},
   "outputs": [],
   "source": [
    "def value(q_table, next_state, epsilon):\n",
    "    optimal_q = np.max(q_table[next_state, :])\n",
    "    return np.sum(np.multiply(epsilon / n_actions, q_table[next_state, :])) + (1 - epsilon) * optimal_q"
   ]
  },
  {
   "cell_type": "code",
   "execution_count": 7,
   "metadata": {},
   "outputs": [],
   "source": [
    "def update_table(state, action, reward, done, v_next_state):\n",
    "    global q_table\n",
    "    q_table[state, action] += lr * (reward + gamma * v_next_state * (1 - done) - q_table[state, action])"
   ]
  },
  {
   "cell_type": "code",
   "execution_count": 8,
   "metadata": {
    "scrolled": false
   },
   "outputs": [
    {
     "name": "stdout",
     "output_type": "stream",
     "text": [
      "Ep:100| Ep_reward:-731| Running_reward:-718.559| Epsilon:0.900| \n",
      "Ep:200| Ep_reward:-577| Running_reward:-625.412| Epsilon:0.800| \n",
      "Ep:300| Ep_reward:-380| Running_reward:-526.729| Epsilon:0.700| \n",
      "Ep:400| Ep_reward:-191| Running_reward:-359.612| Epsilon:0.600| \n",
      "Ep:500| Ep_reward:-102| Running_reward:-224.520| Epsilon:0.500| \n",
      "Ep:600| Ep_reward:-74| Running_reward:-133.448| Epsilon:0.400| \n",
      "Ep:700| Ep_reward:-12| Running_reward:-72.592| Epsilon:0.300| \n",
      "Ep:800| Ep_reward:2| Running_reward:-37.787| Epsilon:0.200| \n",
      "Ep:900| Ep_reward:14| Running_reward:-16.028| Epsilon:0.100| \n",
      "Ep:1000| Ep_reward:6| Running_reward:-3.129| Epsilon:0.010| \n",
      "Ep:1100| Ep_reward:10| Running_reward:3.619| Epsilon:0.010| \n",
      "Ep:1200| Ep_reward:4| Running_reward:6.057| Epsilon:0.010| \n",
      "Ep:1300| Ep_reward:11| Running_reward:7.124| Epsilon:0.010| \n",
      "Ep:1400| Ep_reward:11| Running_reward:7.519| Epsilon:0.010| \n",
      "Ep:1500| Ep_reward:7| Running_reward:7.433| Epsilon:0.010| \n",
      "Ep:1600| Ep_reward:12| Running_reward:7.395| Epsilon:0.010| \n",
      "Ep:1700| Ep_reward:7| Running_reward:7.606| Epsilon:0.010| \n",
      "Ep:1800| Ep_reward:12| Running_reward:7.468| Epsilon:0.010| \n",
      "Ep:1900| Ep_reward:14| Running_reward:7.496| Epsilon:0.010| \n",
      "Ep:2000| Ep_reward:5| Running_reward:7.724| Epsilon:0.010| \n",
      "Ep:2100| Ep_reward:6| Running_reward:7.636| Epsilon:0.010| \n",
      "Ep:2200| Ep_reward:11| Running_reward:7.732| Epsilon:0.010| \n",
      "Ep:2300| Ep_reward:10| Running_reward:7.509| Epsilon:0.010| \n",
      "Ep:2400| Ep_reward:7| Running_reward:7.621| Epsilon:0.010| \n",
      "Ep:2500| Ep_reward:11| Running_reward:7.896| Epsilon:0.010| \n"
     ]
    }
   ],
   "source": [
    "running_reward = []\n",
    "for episode in range(1, 1 + max_episodes):\n",
    "    state = env.reset()\n",
    "    done = False  \n",
    "    episode_reward = 0\n",
    "    while not done:\n",
    "        action = choose_action(state)\n",
    "        next_state, reward, done, _ = env.step(action)\n",
    "        v_next_state = value(q_table, next_state, epsilon)\n",
    "        update_table(state, action, reward, done, v_next_state)\n",
    "        \n",
    "        episode_reward += reward\n",
    "\n",
    "        state = next_state\n",
    "            \n",
    "    epsilon  = epsilon - decay_rate if epsilon - decay_rate > min_epsilon else min_epsilon\n",
    "    \n",
    "    if episode == 1:\n",
    "        running_reward.append(episode_reward)\n",
    "    else:\n",
    "        running_reward.append(0.99 * running_reward[-1] + 0.01 * episode_reward)\n",
    "    if episode % print_interval == 0:\n",
    "        print(f\"Ep:{episode}| \"\n",
    "              f\"Ep_reward:{episode_reward}| \"\n",
    "              f\"Running_reward:{running_reward[-1]:.3f}| \"\n",
    "             f\"Epsilon:{epsilon:.3f}| \")"
   ]
  },
  {
   "cell_type": "code",
   "execution_count": 9,
   "metadata": {},
   "outputs": [
    {
     "data": {
      "text/plain": [
       "Text(0.5, 1.0, 'Running_reward')"
      ]
     },
     "execution_count": 9,
     "metadata": {},
     "output_type": "execute_result"
    },
    {
     "data": {
      "image/png": "[encoded data removed]",
      "text/plain": [
       "<Figure size 432x288 with 1 Axes>"
      ]
     },
     "metadata": {
      "needs_background": "light"
     },
     "output_type": "display_data"
    }
   ],
   "source": [
    "plt.figure()\n",
    "plt.style.use(\"ggplot\")\n",
    "plt.plot(np.arange(max_episodes), running_reward)\n",
    "plt.title(\"Running_reward\")"
   ]
  },
  {
   "cell_type": "code",
   "execution_count": 13,
   "metadata": {},
   "outputs": [
    {
     "name": "stdout",
     "output_type": "stream",
     "text": [
      "Ep:3| Ep_reward:6| \n"
     ]
    }
   ],
   "source": [
    "for episode in range(1, 1 + test_episodes):\n",
    "    state = env.reset()\n",
    "    done = False  \n",
    "    episode_reward = 0\n",
    "    while not done:\n",
    "        action = choose_action(state)\n",
    "        next_state, reward, done, _ = env.step(action)\n",
    "        env.render()\n",
    "        clear_output(wait=True)\n",
    "        sleep(0.3)\n",
    "        episode_reward += reward\n",
    "        state = next_state\n",
    "\n",
    "    print(f\"Ep:{episode}| \"\n",
    "          f\"Ep_reward:{episode_reward}| \")"
   ]
  },
  {
   "cell_type": "code",
   "execution_count": null,
   "metadata": {},
   "outputs": [],
   "source": []
  }
 ],
 "metadata": {
  "kernelspec": {
   "display_name": "Python 3",
   "language": "python",
   "name": "python3"
  },
  "language_info": {
   "codemirror_mode": {
    "name": "ipython",
    "version": 3
   },
   "file_extension": ".py",
   "mimetype": "text/x-python",
   "name": "python",
   "nbconvert_exporter": "python",
   "pygments_lexer": "ipython3",
   "version": "3.8.5"
  }
 },
 "nbformat": 4,
 "nbformat_minor": 4
}
